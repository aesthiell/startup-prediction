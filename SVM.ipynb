{
 "cells": [
  {
   "cell_type": "code",
   "execution_count": 1,
   "id": "bfacf7b1",
   "metadata": {},
   "outputs": [],
   "source": [
    "import pandas as pd\n",
    "import numpy as np\n",
    "import matplotlib.pyplot as plt\n",
    "\n",
    "from sklearn.model_selection import cross_val_score\n",
    "from sklearn.model_selection import GridSearchCV\n",
    "from sklearn.metrics import classification_report\n",
    "from sklearn.svm import SVC\n",
    "\n",
    "from sklearn.metrics import f1_score\n",
    "from sklearn.metrics import auc\n",
    "from sklearn.metrics import roc_curve, roc_auc_score"
   ]
  },
  {
   "cell_type": "code",
   "execution_count": 2,
   "id": "a3d92f22",
   "metadata": {},
   "outputs": [],
   "source": [
    "test = pd.read_csv('test_df.csv')\n",
    "train = pd.read_csv('train_df.csv')"
   ]
  },
  {
   "cell_type": "code",
   "execution_count": 3,
   "id": "647ebe33",
   "metadata": {},
   "outputs": [],
   "source": [
    "to_keep = ['domain', 'num_funding_rounds',\n",
    "       'total_funding_usd', 'founded_on', 'last_funding_on',\n",
    "       'employee_count', 'b_round_age', 'acquired_age',\n",
    "       'target']\n",
    "data_final_train = train[to_keep]\n",
    "data_final_test = test[to_keep]"
   ]
  },
  {
   "cell_type": "code",
   "execution_count": 4,
   "id": "64218cad",
   "metadata": {},
   "outputs": [],
   "source": [
    "y = data_final_train['target']\n",
    "X = data_final_train.drop(['target'], axis = 1)\n",
    "\n",
    "test_y = data_final_test['target']\n",
    "test_X = data_final_test.drop(['target'], axis = 1)"
   ]
  },
  {
   "cell_type": "code",
   "execution_count": 5,
   "id": "8cd87b43",
   "metadata": {},
   "outputs": [
    {
     "data": {
      "text/html": [
       "<div>\n",
       "<style scoped>\n",
       "    .dataframe tbody tr th:only-of-type {\n",
       "        vertical-align: middle;\n",
       "    }\n",
       "\n",
       "    .dataframe tbody tr th {\n",
       "        vertical-align: top;\n",
       "    }\n",
       "\n",
       "    .dataframe thead th {\n",
       "        text-align: right;\n",
       "    }\n",
       "</style>\n",
       "<table border=\"1\" class=\"dataframe\">\n",
       "  <thead>\n",
       "    <tr style=\"text-align: right;\">\n",
       "      <th></th>\n",
       "      <th>domain</th>\n",
       "      <th>num_funding_rounds</th>\n",
       "      <th>total_funding_usd</th>\n",
       "      <th>founded_on</th>\n",
       "      <th>last_funding_on</th>\n",
       "      <th>employee_count</th>\n",
       "      <th>b_round_age</th>\n",
       "      <th>acquired_age</th>\n",
       "    </tr>\n",
       "  </thead>\n",
       "  <tbody>\n",
       "    <tr>\n",
       "      <th>0</th>\n",
       "      <td>1</td>\n",
       "      <td>0.0</td>\n",
       "      <td>0.0</td>\n",
       "      <td>2017.0</td>\n",
       "      <td>0.0</td>\n",
       "      <td>0</td>\n",
       "      <td>0.0</td>\n",
       "      <td>0.0</td>\n",
       "    </tr>\n",
       "    <tr>\n",
       "      <th>1</th>\n",
       "      <td>1</td>\n",
       "      <td>0.0</td>\n",
       "      <td>0.0</td>\n",
       "      <td>2017.0</td>\n",
       "      <td>0.0</td>\n",
       "      <td>1</td>\n",
       "      <td>0.0</td>\n",
       "      <td>0.0</td>\n",
       "    </tr>\n",
       "    <tr>\n",
       "      <th>2</th>\n",
       "      <td>1</td>\n",
       "      <td>0.0</td>\n",
       "      <td>0.0</td>\n",
       "      <td>2014.0</td>\n",
       "      <td>0.0</td>\n",
       "      <td>1</td>\n",
       "      <td>0.0</td>\n",
       "      <td>0.0</td>\n",
       "    </tr>\n",
       "    <tr>\n",
       "      <th>3</th>\n",
       "      <td>1</td>\n",
       "      <td>1.0</td>\n",
       "      <td>0.0</td>\n",
       "      <td>2018.0</td>\n",
       "      <td>2018.0</td>\n",
       "      <td>1</td>\n",
       "      <td>0.0</td>\n",
       "      <td>0.0</td>\n",
       "    </tr>\n",
       "    <tr>\n",
       "      <th>4</th>\n",
       "      <td>1</td>\n",
       "      <td>0.0</td>\n",
       "      <td>0.0</td>\n",
       "      <td>2013.0</td>\n",
       "      <td>0.0</td>\n",
       "      <td>0</td>\n",
       "      <td>0.0</td>\n",
       "      <td>0.0</td>\n",
       "    </tr>\n",
       "  </tbody>\n",
       "</table>\n",
       "</div>"
      ],
      "text/plain": [
       "   domain  num_funding_rounds  total_funding_usd  founded_on  last_funding_on  \\\n",
       "0       1                 0.0                0.0      2017.0              0.0   \n",
       "1       1                 0.0                0.0      2017.0              0.0   \n",
       "2       1                 0.0                0.0      2014.0              0.0   \n",
       "3       1                 1.0                0.0      2018.0           2018.0   \n",
       "4       1                 0.0                0.0      2013.0              0.0   \n",
       "\n",
       "   employee_count  b_round_age  acquired_age  \n",
       "0               0          0.0           0.0  \n",
       "1               1          0.0           0.0  \n",
       "2               1          0.0           0.0  \n",
       "3               1          0.0           0.0  \n",
       "4               0          0.0           0.0  "
      ]
     },
     "execution_count": 5,
     "metadata": {},
     "output_type": "execute_result"
    }
   ],
   "source": [
    "X.head(5)"
   ]
  },
  {
   "cell_type": "code",
   "execution_count": 19,
   "id": "fce20c95",
   "metadata": {},
   "outputs": [],
   "source": [
    "param_grid = {'C': [0.05, 0.1, 0.5, 1, 5, 10, 50],\n",
    "              'gamma': [1/len(X.columns)]} \n",
    "\n",
    " \n",
    "gridsearch = GridSearchCV(model, param_grid, scoring='f1', cv=5, verbose = 3)\n",
    "gridsearch.fit(X, y)"
   ]
  },
  {
   "cell_type": "code",
   "execution_count": 20,
   "id": "a4ed42f7",
   "metadata": {},
   "outputs": [],
   "source": [
    "print(\"Tuned Hyperparameters :\", gridsearch.best_params_)\n",
    "print(\"F1 :\", gridsearch.best_score_)"
   ]
  },
  {
   "cell_type": "code",
   "execution_count": 5,
   "id": "291f8c9e",
   "metadata": {},
   "outputs": [
    {
     "data": {
      "text/plain": [
       "SVC(C=5, gamma=0.125)"
      ]
     },
     "execution_count": 5,
     "metadata": {},
     "output_type": "execute_result"
    }
   ],
   "source": [
    "clf = SVC(C = 5, gamma = 0.125)\n",
    "clf.fit(test_X, test_y)"
   ]
  },
  {
   "cell_type": "code",
   "execution_count": 6,
   "id": "8efde1a2",
   "metadata": {},
   "outputs": [],
   "source": [
    "y_pred = clf.predict(test_X)"
   ]
  },
  {
   "cell_type": "code",
   "execution_count": 7,
   "id": "a451c57f",
   "metadata": {},
   "outputs": [
    {
     "data": {
      "text/plain": [
       "0.9376782077393077"
      ]
     },
     "execution_count": 7,
     "metadata": {},
     "output_type": "execute_result"
    }
   ],
   "source": [
    "print(f1_score(test_y, y_pred))"
   ]
  },
  {
   "cell_type": "code",
   "execution_count": 8,
   "id": "2ce1ec63",
   "metadata": {},
   "outputs": [
    {
     "data": {
      "text/plain": [
       "0.9927503269460397"
      ]
     },
     "execution_count": 8,
     "metadata": {},
     "output_type": "execute_result"
    }
   ],
   "source": [
    "print(clf.score(test_X, test_y))"
   ]
  },
  {
   "cell_type": "code",
   "execution_count": 14,
   "id": "20be7dde",
   "metadata": {},
   "outputs": [
    {
     "data": {
      "image/png": "[encoded data removed]",
      "text/plain": [
       "<Figure size 432x288 with 1 Axes>"
      ]
     },
     "metadata": {
      "needs_background": "light"
     },
     "output_type": "display_data"
    }
   ],
   "source": [
    "test_fpr, test_tpr, te_thresholds = roc_curve(test_y, y_pred)\n",
    "\n",
    "plt.plot(test_fpr, test_tpr,color='red', label=\" AUC TEST =\"+str(auc(test_fpr, test_tpr)))\n",
    "plt.plot([0,1],[0,1], color='darkblue', linestyle='--')\n",
    "plt.legend()\n",
    "plt.xlabel('False Positive Rate')\n",
    "plt.ylabel('True Positive Rate')\n",
    "plt.title('Receiver Operating Characteristic Curve')\n",
    "plt.savefig('svm.png')\n",
    "plt.show()"
   ]
  },
  {
   "cell_type": "code",
   "execution_count": 13,
   "id": "818dd95c",
   "metadata": {},
   "outputs": [
    {
     "name": "stdout",
     "output_type": "stream",
     "text": [
      "Logistic: ROC AUC=0.947\n"
     ]
    }
   ],
   "source": [
    "print('SVM: ROC AUC=%.3f' % (auc(test_fpr, test_tpr)))"
   ]
  },
  {
   "cell_type": "code",
   "execution_count": null,
   "id": "537bbb3c",
   "metadata": {},
   "outputs": [],
   "source": []
  }
 ],
 "metadata": {
  "kernelspec": {
   "display_name": "Python 3",
   "language": "python",
   "name": "python3"
  },
  "language_info": {
   "codemirror_mode": {
    "name": "ipython",
    "version": 3
   },
   "file_extension": ".py",
   "mimetype": "text/x-python",
   "name": "python",
   "nbconvert_exporter": "python",
   "pygments_lexer": "ipython3",
   "version": "3.8.8"
  }
 },
 "nbformat": 4,
 "nbformat_minor": 5
}
